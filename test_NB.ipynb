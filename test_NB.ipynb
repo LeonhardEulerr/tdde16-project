{
 "cells": [
  {
   "cell_type": "code",
   "execution_count": 2,
   "metadata": {},
   "outputs": [],
   "source": [
    "import re\n",
    "from string import punctuation\n",
    "from nltk.corpus import stopwords\n",
    "# if stopwords is not downloaded, please uncomment the 2 lines below\n",
    "#import nltk\n",
    "#nltk.dowload('stopwords')\n",
    "\n",
    "# load spacys vocab\n",
    "import spacy\n",
    "# if en_core_web_lg is not found then uncomment the line below\n",
    "# !python -m spacy download en_core_web_lg\n",
    "\n",
    "nlp = spacy.load('en_core_web_lg')\n"
   ]
  },
  {
   "cell_type": "code",
   "execution_count": 4,
   "metadata": {},
   "outputs": [],
   "source": [
    "import pandas as pd\n",
    "\n",
    "train = pd.read_csv('dataset/Corona_NLP_train.csv', encoding='latin1')\n",
    "test = pd.read_csv('dataset/Corona_NLP_test.csv', encoding='latin1')\n"
   ]
  },
  {
   "cell_type": "code",
   "execution_count": 5,
   "metadata": {},
   "outputs": [],
   "source": [
    "# dropping some unnecessary columns\n",
    "train.drop([\"UserName\", \"ScreenName\", \"Location\", \"TweetAt\"], axis=1, inplace=True)"
   ]
  },
  {
   "cell_type": "code",
   "execution_count": 32,
   "metadata": {},
   "outputs": [
    {
     "data": {
      "text/html": [
       "<div>\n",
       "<style scoped>\n",
       "    .dataframe tbody tr th:only-of-type {\n",
       "        vertical-align: middle;\n",
       "    }\n",
       "\n",
       "    .dataframe tbody tr th {\n",
       "        vertical-align: top;\n",
       "    }\n",
       "\n",
       "    .dataframe thead th {\n",
       "        text-align: right;\n",
       "    }\n",
       "</style>\n",
       "<table border=\"1\" class=\"dataframe\">\n",
       "  <thead>\n",
       "    <tr style=\"text-align: right;\">\n",
       "      <th></th>\n",
       "      <th>OriginalTweet</th>\n",
       "      <th>Sentiment</th>\n",
       "    </tr>\n",
       "  </thead>\n",
       "  <tbody>\n",
       "    <tr>\n",
       "      <th>0</th>\n",
       "      <td>@MeNyrbie @Phil_Gahan @Chrisitv https://t.co/i...</td>\n",
       "      <td>Neutral</td>\n",
       "    </tr>\n",
       "    <tr>\n",
       "      <th>1</th>\n",
       "      <td>advice Talk to your neighbours family to excha...</td>\n",
       "      <td>Positive</td>\n",
       "    </tr>\n",
       "    <tr>\n",
       "      <th>2</th>\n",
       "      <td>Coronavirus Australia: Woolworths to give elde...</td>\n",
       "      <td>Positive</td>\n",
       "    </tr>\n",
       "    <tr>\n",
       "      <th>3</th>\n",
       "      <td>My food stock is not the only one which is emp...</td>\n",
       "      <td>Positive</td>\n",
       "    </tr>\n",
       "    <tr>\n",
       "      <th>4</th>\n",
       "      <td>Me, ready to go at supermarket during the #COV...</td>\n",
       "      <td>Extremely Negative</td>\n",
       "    </tr>\n",
       "  </tbody>\n",
       "</table>\n",
       "</div>"
      ],
      "text/plain": [
       "                                       OriginalTweet           Sentiment\n",
       "0  @MeNyrbie @Phil_Gahan @Chrisitv https://t.co/i...             Neutral\n",
       "1  advice Talk to your neighbours family to excha...            Positive\n",
       "2  Coronavirus Australia: Woolworths to give elde...            Positive\n",
       "3  My food stock is not the only one which is emp...            Positive\n",
       "4  Me, ready to go at supermarket during the #COV...  Extremely Negative"
      ]
     },
     "execution_count": 32,
     "metadata": {},
     "output_type": "execute_result"
    }
   ],
   "source": [
    "train.head()"
   ]
  },
  {
   "cell_type": "code",
   "execution_count": 6,
   "metadata": {},
   "outputs": [
    {
     "data": {
      "text/plain": [
       "0                          menyrbie philgahan chrisitv    \n",
       "1        advice talk neighbours family exchange phone n...\n",
       "2        coronavirus australia woolworths give elderly ...\n",
       "3        food stock one empty      please dont panic en...\n",
       "4        ready go supermarket covid outbreak      im pa...\n",
       "                               ...                        \n",
       "41152    airline pilots offering stock supermarket shel...\n",
       "41153    response complaint provided citing covid relat...\n",
       "41154    know  getting tough kameronwilds  rationing to...\n",
       "41155    wrong smell hand sanitizer starting turn      ...\n",
       "41156    tartiicat well newused rift going  amazon rn a...\n",
       "Name: OriginalTweet, Length: 41157, dtype: object"
      ]
     },
     "execution_count": 6,
     "metadata": {},
     "output_type": "execute_result"
    }
   ],
   "source": [
    "def preprocess(text):\n",
    "    doc = nlp(text)\n",
    "    result = []\n",
    "    for token in doc:\n",
    "        if not token.is_stop and token.is_alpha:\n",
    "            result.append(token.lemma_)\n",
    "    return ' '.join([w for w in result])\n",
    "\n",
    "def process_text(text):\n",
    "  text = str(text) #Convert string to str\n",
    "  #Lowers the string\n",
    "  text = text.lower()\n",
    "  #Removes the full url\n",
    "  url_remove = re.compile(r'(http|ftp|https)://([\\w_-]+(?:(?:\\.[\\w_-]+)+))([\\w.,@?^=%&:/~+#-]*[\\w@?^=%&/~+#-])?')\n",
    "  text = re.sub(url_remove,' ',text)\n",
    "  #Removes the punctuation\n",
    "  text = ''.join([string for string in text if string not in punctuation and not string.isdigit()])\n",
    "  #Removes any more special characters\n",
    "  special_character = re.compile(r'[^a-zA-Z]')\n",
    "  text = re.sub(special_character,' ', text)\n",
    "  text = text.strip() #Strip white spaces\n",
    "  text = text.split(' ')\n",
    "  text = ' '.join([string for string in text if string not in stopwords.words('english')])#Removing all stop words\n",
    "  return text\n",
    "\n",
    "train['OriginalTweet'].apply(process_text)"
   ]
  },
  {
   "cell_type": "code",
   "execution_count": 16,
   "metadata": {},
   "outputs": [
    {
     "name": "stdout",
     "output_type": "stream",
     "text": [
      "@MeNyrbie @Phil_Gahan @Chrisitv https://t.co/iFz9FAn2Pa and https://t.co/xX6ghGFzCC and https://t.co/I2NlzdxNo8\n",
      "Pa\n"
     ]
    }
   ],
   "source": [
    "train[\"Sentiment\"].value_counts()"
   ]
  },
  {
   "cell_type": "code",
   "execution_count": 9,
   "metadata": {},
   "outputs": [
    {
     "name": "stdout",
     "output_type": "stream",
     "text": [
      "                    precision    recall  f1-score   support\n",
      "\n",
      "Extremely Negative       0.66      0.17      0.28       592\n",
      "Extremely Positive       0.75      0.22      0.34       599\n",
      "          Negative       0.42      0.56      0.48      1041\n",
      "           Neutral       0.70      0.20      0.31       619\n",
      "          Positive       0.36      0.72      0.48       947\n",
      "\n",
      "          accuracy                           0.43      3798\n",
      "         macro avg       0.58      0.38      0.38      3798\n",
      "      weighted avg       0.54      0.43      0.40      3798\n",
      "\n"
     ]
    }
   ],
   "source": [
    "from sklearn.pipeline import Pipeline\n",
    "from sklearn.feature_extraction.text import CountVectorizer\n",
    "from sklearn.naive_bayes import MultinomialNB\n",
    "from sklearn.metrics import classification_report\n",
    "\n",
    "pipe = Pipeline([('count_vectorizer', CountVectorizer(binary=False)), ('multi_naive_bayes', MultinomialNB())])\n",
    "pipe.fit(train['OriginalTweet'], train['Sentiment'])\n",
    "predicted = pipe.predict(test['OriginalTweet'])\n",
    "print(classification_report(test['Sentiment'], predicted))"
   ]
  }
 ],
 "metadata": {
  "interpreter": {
   "hash": "27f9f31083b1491bb657d358dd9ef3834cbda27041550bdcb5ccfa2b16bbb078"
  },
  "kernelspec": {
   "display_name": "Python 3.7.3 64-bit ('env-tdde16-project': venv)",
   "language": "python",
   "name": "python3"
  },
  "language_info": {
   "codemirror_mode": {
    "name": "ipython",
    "version": 3
   },
   "file_extension": ".py",
   "mimetype": "text/x-python",
   "name": "python",
   "nbconvert_exporter": "python",
   "pygments_lexer": "ipython3",
   "version": "3.7.3"
  },
  "orig_nbformat": 4
 },
 "nbformat": 4,
 "nbformat_minor": 2
}
