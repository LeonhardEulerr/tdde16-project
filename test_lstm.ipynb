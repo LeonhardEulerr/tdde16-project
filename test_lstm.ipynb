{
 "cells": [
  {
   "cell_type": "code",
   "execution_count": 1,
   "metadata": {},
   "outputs": [],
   "source": [
    "import numpy as np # linear algebra\n",
    "import pandas as pd # data processing, CSV file I/O (e.g. pd.read_csv)\n",
    "\n",
    "# Tensorflow imports\n",
    "\n",
    "# for building model\n",
    "import tensorflow as tf\n",
    "from tensorflow import keras\n",
    "from tensorflow.keras import layers, models\n",
    "from tensorflow.keras.models import Sequential\n",
    "from tensorflow.keras.layers import Embedding, LSTM, Flatten, GlobalMaxPooling1D, Dense, Dropout\n",
    "from keras.initializers import Constant\n",
    "\n",
    "# for Padding\n",
    "from tensorflow.keras import preprocessing\n",
    "from tensorflow.keras.preprocessing.sequence import pad_sequences\n",
    "\n",
    "# for Tokenization \n",
    "from tensorflow.keras.preprocessing.text import Tokenizer\n",
    "\n",
    "# NLTK imports\n",
    "import nltk\n",
    "from nltk.stem import WordNetLemmatizer\n",
    "from nltk.corpus import wordnet\n",
    "from nltk.corpus import stopwords\n",
    "from nltk.tokenize import word_tokenize\n",
    "\n",
    "# For visualization\n",
    "import matplotlib.pyplot as plt\n",
    "# import seaborn as sns\n",
    "\n",
    "# For regular expressions\n",
    "import re\n",
    "\n",
    "# For data preprocessing\n",
    "from string import punctuation, digits\n",
    "\n",
    "# loading progress\n",
    "import tqdm"
   ]
  },
  {
   "cell_type": "code",
   "execution_count": 2,
   "metadata": {},
   "outputs": [
    {
     "name": "stdout",
     "output_type": "stream",
     "text": [
      "train dataset shape >> (41157, 6)\n",
      "test dataset shape >> (3798, 6)\n"
     ]
    }
   ],
   "source": [
    "# Read in data\n",
    "train_df = pd.read_csv('dataset/Corona_NLP_train.csv', encoding=\"Latin-1\")\n",
    "test_df = pd.read_csv('dataset/Corona_NLP_test.csv', encoding=\"Latin-1\")\n",
    "\n",
    "print(f\"train dataset shape >> {train_df.shape}\")\n",
    "print(f\"test dataset shape >> {test_df.shape}\")"
   ]
  },
  {
   "cell_type": "code",
   "execution_count": 3,
   "metadata": {},
   "outputs": [],
   "source": [
    "# Creat new dataset (which will consist from 2 columns: label, data)\n",
    "\n",
    "def data_label_split(dataset):\n",
    "    data = dataset['OriginalTweet']\n",
    "    label = dataset['Sentiment']\n",
    "    return data,label\n",
    "\n",
    "train_data,train_label = data_label_split(train_df)\n",
    "test_data,test_label = data_label_split(test_df)\n",
    "\n",
    "train = pd.DataFrame({\n",
    "    'label':train_label,\n",
    "    'data':train_data\n",
    "})\n",
    "\n",
    "test = pd.DataFrame({\n",
    "    'label':test_label,\n",
    "    'data':test_data\n",
    "})\n",
    "\n",
    "# Define function which will make new labels\n",
    "\n",
    "def reassign_label(x):\n",
    "    if x == \"Extremely Positive\" or x == \"Positive\":\n",
    "        return 1\n",
    "    elif x ==\"Extremely Negative\" or x ==\"Negative\":\n",
    "        return -1\n",
    "    elif x ==\"Neutral\":\n",
    "        return 0\n",
    "\n",
    "train.label = train.label.apply(lambda x:reassign_label(x))\n",
    "test.label = test.label.apply(lambda x:reassign_label(x))"
   ]
  },
  {
   "cell_type": "markdown",
   "metadata": {},
   "source": [
    "## Data preprocessing"
   ]
  },
  {
   "cell_type": "code",
   "execution_count": 4,
   "metadata": {},
   "outputs": [],
   "source": [
    "def remove_punctuation(s):\n",
    "    list_punctuation = list(punctuation)\n",
    "    for i in list_punctuation:\n",
    "        s = s.replace(i,'')\n",
    "    return s.lower()\n",
    "\n",
    "def clean_sentence(sentence):\n",
    "    sentence = sentence.lower()\n",
    "    sentence = re.sub(r'(\\W)\\1{2,}', r'\\1', sentence) \n",
    "    sentence = re.sub(r'(\\w)\\1{2,}', r'\\1\\1', sentence)\n",
    "    sentence = re.sub(r'(?P<url>https?://[^\\s]+)', '', sentence) # remove URL adresses\n",
    "    sentence = re.sub(r\"\\@(\\w+)\", '', sentence) # remove usernames\n",
    "    sentence = re.sub(r\"\\#(\\w+)\", '', sentence) # remove hashtags\n",
    "    sentence = re.sub(r\"\\$(\\w+)\", '', sentence) # remove cashtags\n",
    "    sentence = sentence.replace(\"-\",' ')\n",
    "    tokens = sentence.split()\n",
    "    tokens = [remove_punctuation(w) for w in tokens] # remove punctuations\n",
    "    stop_words = set(stopwords.words('english')) # remove stopwords\n",
    "    tokens = [w for w in tokens if not w in stop_words]\n",
    "    remove_digits = str.maketrans('', '', digits)\n",
    "    tokens = [w.translate(remove_digits) for w in tokens]\n",
    "    tokens = [w.strip() for w in tokens]\n",
    "    tokens = [w for w in tokens if w!=\"\"]\n",
    "    tokens = ' '.join(tokens)\n",
    "    return tokens\n",
    "\n",
    "def process_text(text):\n",
    "  text = str(text) #Convert string to str\n",
    "  #Lowers the string\n",
    "  text = text.lower()\n",
    "  #Removes the full url\n",
    "  url_remove = re.compile(r'(http|ftp|https)://([\\w_-]+(?:(?:\\.[\\w_-]+)+))([\\w.,@?^=%&:/~+#-]*[\\w@?^=%&/~+#-])?')\n",
    "  text = re.sub(url_remove,' ',text)\n",
    "  #Removes the punctuation\n",
    "  text = ''.join([string for string in text if string not in punctuation and not string.isdigit()])\n",
    "  #Removes any more special characters\n",
    "  special_character = re.compile(r'[^a-zA-Z]')\n",
    "  text = re.sub(special_character,' ', text)\n",
    "  text = text.strip() #Strip white spaces\n",
    "  text = text.split(' ')\n",
    "  text = ' '.join([string for string in text if string not in stopwords.words('english')])#Removing all stop words\n",
    "  return text"
   ]
  },
  {
   "cell_type": "code",
   "execution_count": 5,
   "metadata": {},
   "outputs": [],
   "source": [
    "# Clean sentences in train and test data\n",
    "train.data = train.data.apply(lambda sentence:clean_sentence(sentence))\n",
    "test.data = test.data.apply(lambda sentence:clean_sentence(sentence))\n",
    "\n",
    "#train.data = train.data.apply(process_text)\n",
    "#test.data = test.data.apply(process_text)"
   ]
  },
  {
   "cell_type": "code",
   "execution_count": 6,
   "metadata": {},
   "outputs": [],
   "source": [
    "# Splitting data to train and test\n",
    "\n",
    "# Train data\n",
    "train_data = train.data\n",
    "train_label = train.label\n",
    "\n",
    "# Test data\n",
    "test_data = test.data\n",
    "test_label = test.label"
   ]
  },
  {
   "cell_type": "code",
   "execution_count": 7,
   "metadata": {},
   "outputs": [],
   "source": [
    "# Convert categorical variable (in our case: -1, 0, 1) into dummy/indicator variables. Such as -1 to 1 0 0 \n",
    "train_label = pd.get_dummies(train_label)\n",
    "test_label = pd.get_dummies(test_label)"
   ]
  },
  {
   "cell_type": "markdown",
   "metadata": {},
   "source": [
    "## Lemmatization"
   ]
  },
  {
   "cell_type": "code",
   "execution_count": 8,
   "metadata": {},
   "outputs": [],
   "source": [
    "lemmatizer = WordNetLemmatizer()\n",
    "\n",
    "# Function to convert nltk tag to wordnet tag\n",
    "def nltk_tag_to_wordnet_tag(nltk_tag):\n",
    "    if nltk_tag.startswith('J'):\n",
    "        return wordnet.ADJ\n",
    "    elif nltk_tag.startswith('V'):\n",
    "        return wordnet.VERB\n",
    "    elif nltk_tag.startswith('N'):\n",
    "        return wordnet.NOUN\n",
    "    elif nltk_tag.startswith('R'):\n",
    "        return wordnet.ADV\n",
    "    else:\n",
    "        return wordnet.NOUN\n",
    "\n",
    "# Function below is necessery to find lemma of each word\n",
    "def lemmatize_sentence(de_punct_sent):\n",
    "    # Tokenize the sentence and find the POS tag for each token\n",
    "    nltk_tagged = nltk.pos_tag(nltk.word_tokenize(de_punct_sent))\n",
    "    # Tuple of (token, wordnet_tag)\n",
    "    wordnet_tagged = map(lambda x: (x[0], nltk_tag_to_wordnet_tag(x[1])), nltk_tagged)\n",
    "    lemmatized_sentence = []\n",
    "    for word, tag in wordnet_tagged:\n",
    "        lemmatized_sentence.append(lemmatizer.lemmatize(word, tag))\n",
    "    return \" \".join(lemmatized_sentence)"
   ]
  },
  {
   "cell_type": "code",
   "execution_count": 9,
   "metadata": {},
   "outputs": [],
   "source": [
    "# Lemmatization of train and test data\n",
    "train_lem = [lemmatize_sentence(i) for i in train_data]\n",
    "test_lem = [lemmatize_sentence(i) for i in test_data]"
   ]
  },
  {
   "cell_type": "markdown",
   "metadata": {},
   "source": [
    "## Tokenization"
   ]
  },
  {
   "cell_type": "code",
   "execution_count": 10,
   "metadata": {},
   "outputs": [
    {
     "name": "stdout",
     "output_type": "stream",
     "text": [
      "Found 32445 unique tokens.\n"
     ]
    }
   ],
   "source": [
    "samples_1 = train_lem\n",
    "samples_2 = test_lem\n",
    "\n",
    "tokenizer = Tokenizer()\n",
    "tokenizer.fit_on_texts(samples_1) # Create an index of all words from training data\n",
    "\n",
    "# Convert strings to integer index lists\n",
    "\n",
    "# After that, we pass the ready-made (from the line above) indexes for all words from train\n",
    "train_data = tokenizer.texts_to_sequences(samples_1)\n",
    "# And for test. So, we should get the same word indexes in the two texts\n",
    "test_data = tokenizer.texts_to_sequences(samples_2)\n",
    "\n",
    "word_index = tokenizer.word_index # Find out the calculated index of words\n",
    "print('Found %s unique tokens.' % len(word_index))"
   ]
  },
  {
   "cell_type": "code",
   "execution_count": 11,
   "metadata": {},
   "outputs": [
    {
     "data": {
      "image/png": "[encoded data removed]",
      "text/plain": [
       "<Figure size 432x288 with 1 Axes>"
      ]
     },
     "metadata": {
      "needs_background": "light"
     },
     "output_type": "display_data"
    }
   ],
   "source": [
    "# Now we want to find out what is the maximum number of words in a sentence. \n",
    "# After that, we will fill in the sentences with the missing number of words.\n",
    "\n",
    "lens =  [len(s) for s in train_data]\n",
    "\n",
    "plt.title('The maximum number of words in a sentence', fontdict={'fontname': 'Arial', 'fontsize': 17})\n",
    "plt.xlabel('The max number of words in a sentence', fontdict={'fontname': 'Arial', 'fontsize': 15})\n",
    "plt.ylabel('The number of sentences', fontdict={'fontname': 'Arial', 'fontsize': 15})\n",
    "plt.hist(lens,bins=200)\n",
    "plt.show()"
   ]
  },
  {
   "cell_type": "code",
   "execution_count": 12,
   "metadata": {},
   "outputs": [],
   "source": [
    "maxlen = 40 # maximal length of sentences\n",
    "\n",
    "# Convert lists of integers to a two-dimensional tensor \n",
    "# with integers and with a shape (samples, max. length)\n",
    "\n",
    "train_data = preprocessing.sequence.pad_sequences(train_data, maxlen=maxlen, padding='post', truncating='post') \n",
    "test_data = preprocessing.sequence.pad_sequences(test_data, maxlen=maxlen, padding='post', truncating='post')"
   ]
  },
  {
   "cell_type": "code",
   "execution_count": 46,
   "metadata": {},
   "outputs": [
    {
     "name": "stderr",
     "output_type": "stream",
     "text": [
      "4251502it [06:52, 10313.25it/s]\n"
     ]
    },
    {
     "name": "stdout",
     "output_type": "stream",
     "text": [
      "  Download completed ;) :\n",
      "1. Extracting embeddings\\glove.zip file\n",
      "2. Deleting embeddings\\glove.zip file\n"
     ]
    },
    {
     "name": "stderr",
     "output_type": "stream",
     "text": [
      "2969548it [04:47, 10335.06it/s]\n"
     ]
    },
    {
     "name": "stdout",
     "output_type": "stream",
     "text": [
      "  Download completed ;) :\n",
      "1. Extracting embeddings\\glove.zip file\n",
      "1. Extracting embeddings\\glove.zip file\n",
      "1. Extracting embeddings\\glove.zip file\n",
      "1. Extracting embeddings\\glove.zip file\n",
      "2. Deleting embeddings\\glove.zip file\n"
     ]
    }
   ],
   "source": [
    "import tqdm\n",
    "import requests\n",
    "import zipfile\n",
    "import os\n",
    "URLs = [\"http://nlp.stanford.edu/data/glove.42B.300d.zip\", \"https://nlp.stanford.edu/data/glove.6B.zip\"]\n",
    "GLOVES = ['glove.6B.100d.txt', 'glove.42B.300d.txt']\n",
    "\n",
    "def fetch_data(url, target_file=os.path.join('embeddings','glove.zip'), delete_zip=True):\n",
    "    current_directory = os.getcwd()\n",
    "    if not os.path.isdir(os.path.join(current_directory, \"embeddings\")):\n",
    "        os.mkdir(os.path.join(current_directory, \"embeddings\"))\n",
    "    \n",
    "    if os.path.isfile(target_file):\n",
    "        print(\"datasets already downloded :) \")\n",
    "    else:\n",
    "        response = requests.get(url, stream=True)\n",
    "        #read chunk by chunk\n",
    "        handle = open(target_file, \"wb\")\n",
    "        for chunk in tqdm.tqdm(response.iter_content(chunk_size=512)):\n",
    "            if chunk:  \n",
    "                handle.write(chunk)\n",
    "        handle.close()  \n",
    "        print(\"  Download completed ;) :\") \n",
    "    \n",
    "    #extract zip_file\n",
    "    with zipfile.ZipFile(target_file, 'r') as zip_ref:\n",
    "        for zipinfo in zip_ref.infolist():\n",
    "            print(\"1. Extracting {} file\".format(target_file))\n",
    "            if (os.path.isfile(os.path.join('embeddings', zipinfo.filename))):\n",
    "                continue\n",
    "            zip_ref.extract(zipinfo, \"embeddings\")\n",
    "    \n",
    "    if delete_zip:\n",
    "        print(\"2. Deleting {} file\".format(target_file))\n",
    "        os.remove(path=target_file)\n",
    "\n",
    "## ------------------------------------------------------------------------------- ##        \n",
    "## if word embeddings need to be downloaded just uncomment all the following lines ##\n",
    "## ------------------------------------------------------------------------------- ##        \n",
    "\n",
    "# fetch_data(\"https://nlp.stanford.edu/data/glove.6B.zip\")\n",
    "# fetch_data(\"http://nlp.stanford.edu/data/glove.42B.300d.zip\")\n",
    "# fetch_data(\"https://dl.fbaipublicfiles.com/fasttext/vectors-english/wiki-news-300d-1M.vec.zip\")\n",
    "# fetch_data(\"https://dl.fbaipublicfiles.com/fasttext/vectors-english/wiki-news-300d-1M-subword.vec.zip\")\n",
    "# fetch_data(\"https://dl.fbaipublicfiles.com/fasttext/vectors-english/crawl-300d-2M.vec.zip\")\n",
    "# fetch_data(\"https://dl.fbaipublicfiles.com/fasttext/vectors-english/crawl-300d-2M-subword.zip\")\n",
    "# fetch_data(\"https://nlp.stanford.edu/data/glove.840B.300d.zip\")\n",
    "# fetch_data(\"https://nlp.stanford.edu/data/glove.twitter.27B.zip\")\n",
    "\n",
    "# link to download gogle word embeddings - https://drive.google.com/file/d/0B7XkCwpI5KDYNlNUTTlSS21pQmM/edit?resourcekey=0-wjGZdNAUop6WykTtMip30g"
   ]
  },
  {
   "cell_type": "markdown",
   "metadata": {},
   "source": [
    "## Code for various word embeddings"
   ]
  },
  {
   "cell_type": "code",
   "execution_count": 13,
   "metadata": {},
   "outputs": [],
   "source": [
    "import io\n",
    "\n",
    "def load_ff_vectors(fname):\n",
    "    # fin = io.open(fname, 'r', encoding='utf-8', newline='\\n', errors='ignore')\n",
    "    # n, d = map(int, fin.readline().split())\n",
    "    # data = {}\n",
    "    # for line in fin:\n",
    "    #     tokens = line.rstrip().split(' ')\n",
    "    #     data[tokens[0]] = map(float, tokens[1:])\n",
    "\n",
    "    embedding_dict = {}\n",
    "    with open(fname, 'r', encoding='utf-8') as f:\n",
    "        next(f)\n",
    "        for line in f:\n",
    "            values=line.split()\n",
    "            # get the word\n",
    "            word=values[0]\n",
    "            if word in word_index.keys():\n",
    "                # get the vector\n",
    "                try:\n",
    "                    vector = np.asarray(values[1:], 'float32')\n",
    "                    embedding_dict[word] = vector\n",
    "                except:\n",
    "                    print(\"An incorrect vector was found and skipped\")\n",
    "\n",
    "    return embedding_dict\n",
    "\n",
    "\n",
    "\n",
    "def construct_embedding_matrix(glove_file, emb_length, word_index=word_index):\n",
    "    embedding_dict = {}\n",
    "    with open(glove_file, 'r', encoding='utf-8') as f:\n",
    "        for line in f:\n",
    "            values=line.split()\n",
    "            # get the word\n",
    "            word=values[0]\n",
    "            if word in word_index.keys():\n",
    "                # get the vector\n",
    "                try:\n",
    "                    vector = np.asarray(values[1:], 'float32')\n",
    "                    embedding_dict[word] = vector\n",
    "                except:\n",
    "                    print(\"An incorrect vector was found and skipped\")\n",
    "    ###  oov words (out of vacabulary words) will be mapped to 0 vectors\n",
    "\n",
    "    num_words=len(word_index)+1\n",
    "    #initialize it to 0\n",
    "    embedding_matrix=np.zeros((num_words, emb_length))\n",
    "\n",
    "    for word,i in tqdm.tqdm(word_index.items()):\n",
    "        if i < num_words:\n",
    "            vect=embedding_dict.get(word, [])\n",
    "            if len(vect)>0:\n",
    "                embedding_matrix[i] = vect[:emb_length]\n",
    "    return embedding_matrix\n",
    "\n",
    "def construct_embedding_matrix_from_ff(ffname, emb_length, word_index=word_index):\n",
    "\n",
    "    embedding_dict = load_ff_vectors(ffname)\n",
    "\n",
    "    num_words=len(word_index)+1\n",
    "    #initialize it to 0\n",
    "    embedding_matrix=np.zeros((num_words, emb_length))\n",
    "\n",
    "    for word,i in tqdm.tqdm(word_index.items()):\n",
    "        if i < num_words:\n",
    "            vect=embedding_dict.get(word, [])\n",
    "            if len(vect)>0:\n",
    "                embedding_matrix[i] = vect[:emb_length]\n",
    "    return embedding_matrix\n",
    "\n",
    "# embedding_matrix =  construct_embedding_matrix(glove_file, word_index)"
   ]
  },
  {
   "cell_type": "markdown",
   "metadata": {},
   "source": [
    "## Building Classification Model"
   ]
  },
  {
   "cell_type": "code",
   "execution_count": 14,
   "metadata": {},
   "outputs": [],
   "source": [
    "def create_model(embedding_dim, embedding_matrix, vocab_inp_size=len(word_index)+1, hidden_size=256):\n",
    "        model = Sequential() \n",
    "\n",
    "        # The Embedding layer is necessery in order to convert words (in out case from integers) to vectors\n",
    "        model.add(Embedding(input_dim = vocab_inp_size, output_dim = embedding_dim, input_length = maxlen, embeddings_initializer=Constant(embedding_matrix)))\n",
    "        # model.add(Embedding(input_dim = vocab_inp_size, output_dim = embedding_dim, input_length = maxlen))\n",
    "\n",
    "        # Apply Dropout to use recurrent decimation to combat overfitting \n",
    "        model.add(LSTM(hidden_size, return_sequences=True, dropout=0.4, recurrent_dropout=0.4)) \n",
    "\n",
    "        # Use Flatten() or GlobalMaxPooling1D() to convert 3D output to 2D.\n",
    "        # It allows you to add one or more Dense layers to your model \n",
    "        model.add(Flatten()) # or model.add(GlobalMaxPooling1D())\n",
    "\n",
    "        #model.add(Dense(64, activation='relu'))#as experiment we tried to add one additional layer,but it is not give as higher accuracy\n",
    "        #model.add(Dropout(0.4))\n",
    "\n",
    "        model.add(Dense(3, activation='softmax'))#activation function for classification\n",
    "\n",
    "        model.summary()\n",
    "\n",
    "        model.compile(optimizer='rmsprop', loss='categorical_crossentropy', metrics=['categorical_accuracy']) \n",
    "\n",
    "        return model\n",
    "\n",
    "        # access the embedding layer through the constructed model \n",
    "        # first `0` refers to the position of embedding layer in the `model`\n",
    "        embeddings = model.layers[0].get_weights()[0]\n",
    "\n",
    "        # `embeddings` has a shape of (num_vocab, embedding_dim) \n",
    "\n",
    "        # `word_to_index` is a mapping (i.e. dict) from words to their index, e.g. `love`: 69\n",
    "        words_embeddings = {w:embeddings[idx] for w, idx in word_index.items()}\n",
    "\n",
    "def train_model(name, embedding_dim, embedding_matrix, vocab_inp_size=len(word_index)+1, hidden_size=256):\n",
    "        model = create_model(embedding_dim, embedding_matrix, vocab_inp_size, hidden_size)\n",
    "\n",
    "        from keras.callbacks import EarlyStopping, ModelCheckpoint, CSVLogger\n",
    "\n",
    "        early_stopping =EarlyStopping(monitor='val_loss', patience=3)\n",
    "        bst_model_path = name + '.h5'\n",
    "        model_checkpoint = ModelCheckpoint(bst_model_path, save_best_only=True)\n",
    "\n",
    "        model.fit(train_data, train_label, \\\n",
    "                epochs=20, batch_size=128, validation_split=0.2, \\\n",
    "                callbacks=[early_stopping, model_checkpoint, CSVLogger(f\"history_{name}.csv\")])\n",
    "\n",
    "        #model.load_weights(bst_model_path)"
   ]
  },
  {
   "cell_type": "code",
   "execution_count": 21,
   "metadata": {},
   "outputs": [
    {
     "name": "stderr",
     "output_type": "stream",
     "text": [
      "100%|██████████| 32445/32445 [00:00<00:00, 956836.75it/s]\n"
     ]
    },
    {
     "name": "stdout",
     "output_type": "stream",
     "text": [
      "Model: \"sequential_2\"\n",
      "_________________________________________________________________\n",
      " Layer (type)                Output Shape              Param #   \n",
      "=================================================================\n",
      " embedding_2 (Embedding)     (None, 40, 100)           3244600   \n",
      "                                                                 \n",
      " lstm_2 (LSTM)               (None, 40, 256)           365568    \n",
      "                                                                 \n",
      " flatten_2 (Flatten)         (None, 10240)             0         \n",
      "                                                                 \n",
      " dense_2 (Dense)             (None, 3)                 30723     \n",
      "                                                                 \n",
      "=================================================================\n",
      "Total params: 3,640,891\n",
      "Trainable params: 3,640,891\n",
      "Non-trainable params: 0\n",
      "_________________________________________________________________\n",
      "Epoch 1/20\n",
      "258/258 [==============================] - 49s 182ms/step - loss: 0.8086 - categorical_accuracy: 0.6403 - val_loss: 0.6842 - val_categorical_accuracy: 0.7071\n",
      "Epoch 2/20\n",
      "258/258 [==============================] - 46s 177ms/step - loss: 0.6386 - categorical_accuracy: 0.7421 - val_loss: 0.5791 - val_categorical_accuracy: 0.7679\n",
      "Epoch 3/20\n",
      "258/258 [==============================] - 46s 179ms/step - loss: 0.5352 - categorical_accuracy: 0.7969 - val_loss: 0.5179 - val_categorical_accuracy: 0.8045\n",
      "Epoch 4/20\n",
      "258/258 [==============================] - 50s 193ms/step - loss: 0.4765 - categorical_accuracy: 0.8224 - val_loss: 0.4649 - val_categorical_accuracy: 0.8271\n",
      "Epoch 5/20\n",
      "258/258 [==============================] - 50s 194ms/step - loss: 0.4305 - categorical_accuracy: 0.8430 - val_loss: 0.4387 - val_categorical_accuracy: 0.8438\n",
      "Epoch 6/20\n",
      "258/258 [==============================] - 53s 205ms/step - loss: 0.3958 - categorical_accuracy: 0.8585 - val_loss: 0.4752 - val_categorical_accuracy: 0.8382\n",
      "Epoch 7/20\n",
      "258/258 [==============================] - 56s 215ms/step - loss: 0.3605 - categorical_accuracy: 0.8731 - val_loss: 0.4373 - val_categorical_accuracy: 0.8557\n",
      "Epoch 8/20\n",
      "258/258 [==============================] - 55s 214ms/step - loss: 0.3323 - categorical_accuracy: 0.8834 - val_loss: 0.4443 - val_categorical_accuracy: 0.8468\n",
      "Epoch 9/20\n",
      "258/258 [==============================] - 59s 227ms/step - loss: 0.3088 - categorical_accuracy: 0.8918 - val_loss: 0.4371 - val_categorical_accuracy: 0.8513\n",
      "Epoch 10/20\n",
      "258/258 [==============================] - 57s 222ms/step - loss: 0.2831 - categorical_accuracy: 0.9002 - val_loss: 0.4865 - val_categorical_accuracy: 0.8509\n",
      "Epoch 11/20\n",
      "258/258 [==============================] - 58s 224ms/step - loss: 0.2594 - categorical_accuracy: 0.9065 - val_loss: 0.4640 - val_categorical_accuracy: 0.8508\n",
      "Epoch 12/20\n",
      "258/258 [==============================] - 56s 217ms/step - loss: 0.2384 - categorical_accuracy: 0.9150 - val_loss: 0.4893 - val_categorical_accuracy: 0.8519\n"
     ]
    },
    {
     "name": "stderr",
     "output_type": "stream",
     "text": [
      "100%|██████████| 32445/32445 [00:00<00:00, 711960.83it/s]\n"
     ]
    },
    {
     "name": "stdout",
     "output_type": "stream",
     "text": [
      "Model: \"sequential_3\"\n",
      "_________________________________________________________________\n",
      " Layer (type)                Output Shape              Param #   \n",
      "=================================================================\n",
      " embedding_3 (Embedding)     (None, 40, 200)           6489200   \n",
      "                                                                 \n",
      " lstm_3 (LSTM)               (None, 40, 256)           467968    \n",
      "                                                                 \n",
      " flatten_3 (Flatten)         (None, 10240)             0         \n",
      "                                                                 \n",
      " dense_3 (Dense)             (None, 3)                 30723     \n",
      "                                                                 \n",
      "=================================================================\n",
      "Total params: 6,987,891\n",
      "Trainable params: 6,987,891\n",
      "Non-trainable params: 0\n",
      "_________________________________________________________________\n",
      "Epoch 1/20\n",
      "258/258 [==============================] - 74s 282ms/step - loss: 0.7756 - categorical_accuracy: 0.6623 - val_loss: 0.6927 - val_categorical_accuracy: 0.7138\n",
      "Epoch 2/20\n",
      "258/258 [==============================] - 79s 308ms/step - loss: 0.5751 - categorical_accuracy: 0.7770 - val_loss: 0.5366 - val_categorical_accuracy: 0.7988\n",
      "Epoch 3/20\n",
      "258/258 [==============================] - 76s 296ms/step - loss: 0.4754 - categorical_accuracy: 0.8258 - val_loss: 0.4877 - val_categorical_accuracy: 0.8224\n",
      "Epoch 4/20\n",
      "258/258 [==============================] - 80s 312ms/step - loss: 0.4136 - categorical_accuracy: 0.8519 - val_loss: 0.4515 - val_categorical_accuracy: 0.8371\n",
      "Epoch 5/20\n",
      "258/258 [==============================] - 82s 319ms/step - loss: 0.3650 - categorical_accuracy: 0.8688 - val_loss: 0.4891 - val_categorical_accuracy: 0.8324\n",
      "Epoch 6/20\n",
      "258/258 [==============================] - 85s 328ms/step - loss: 0.3227 - categorical_accuracy: 0.8839 - val_loss: 0.4412 - val_categorical_accuracy: 0.8522\n",
      "Epoch 7/20\n",
      "258/258 [==============================] - 81s 315ms/step - loss: 0.2858 - categorical_accuracy: 0.8979 - val_loss: 0.4643 - val_categorical_accuracy: 0.8550\n",
      "Epoch 8/20\n",
      "258/258 [==============================] - 82s 316ms/step - loss: 0.2468 - categorical_accuracy: 0.9128 - val_loss: 0.5013 - val_categorical_accuracy: 0.8400\n",
      "Epoch 9/20\n",
      "258/258 [==============================] - 85s 328ms/step - loss: 0.2138 - categorical_accuracy: 0.9226 - val_loss: 0.4941 - val_categorical_accuracy: 0.8468\n"
     ]
    },
    {
     "name": "stderr",
     "output_type": "stream",
     "text": [
      "100%|██████████| 32445/32445 [00:00<00:00, 591755.31it/s]\n"
     ]
    },
    {
     "name": "stdout",
     "output_type": "stream",
     "text": [
      "Model: \"sequential_4\"\n",
      "_________________________________________________________________\n",
      " Layer (type)                Output Shape              Param #   \n",
      "=================================================================\n",
      " embedding_4 (Embedding)     (None, 40, 300)           9733800   \n",
      "                                                                 \n",
      " lstm_4 (LSTM)               (None, 40, 256)           570368    \n",
      "                                                                 \n",
      " flatten_4 (Flatten)         (None, 10240)             0         \n",
      "                                                                 \n",
      " dense_4 (Dense)             (None, 3)                 30723     \n",
      "                                                                 \n",
      "=================================================================\n",
      "Total params: 10,334,891\n",
      "Trainable params: 10,334,891\n",
      "Non-trainable params: 0\n",
      "_________________________________________________________________\n",
      "Epoch 1/20\n",
      "258/258 [==============================] - 92s 352ms/step - loss: 0.7457 - categorical_accuracy: 0.6821 - val_loss: 0.6514 - val_categorical_accuracy: 0.7276\n",
      "Epoch 2/20\n",
      "258/258 [==============================] - 88s 343ms/step - loss: 0.5368 - categorical_accuracy: 0.7973 - val_loss: 0.4839 - val_categorical_accuracy: 0.8275\n",
      "Epoch 3/20\n",
      "258/258 [==============================] - 92s 358ms/step - loss: 0.4377 - categorical_accuracy: 0.8414 - val_loss: 0.4635 - val_categorical_accuracy: 0.8327\n",
      "Epoch 4/20\n",
      "258/258 [==============================] - 92s 356ms/step - loss: 0.3735 - categorical_accuracy: 0.8666 - val_loss: 0.4253 - val_categorical_accuracy: 0.8520\n",
      "Epoch 5/20\n",
      "258/258 [==============================] - 89s 346ms/step - loss: 0.3203 - categorical_accuracy: 0.8869 - val_loss: 0.4479 - val_categorical_accuracy: 0.8412\n",
      "Epoch 6/20\n",
      "258/258 [==============================] - 93s 361ms/step - loss: 0.2752 - categorical_accuracy: 0.9034 - val_loss: 0.4575 - val_categorical_accuracy: 0.8468\n",
      "Epoch 7/20\n",
      "258/258 [==============================] - 92s 355ms/step - loss: 0.2298 - categorical_accuracy: 0.9190 - val_loss: 0.5816 - val_categorical_accuracy: 0.8399\n"
     ]
    },
    {
     "name": "stderr",
     "output_type": "stream",
     "text": [
      "100%|██████████| 32445/32445 [00:00<00:00, 677743.88it/s]\n"
     ]
    },
    {
     "name": "stdout",
     "output_type": "stream",
     "text": [
      "Model: \"sequential_5\"\n",
      "_________________________________________________________________\n",
      " Layer (type)                Output Shape              Param #   \n",
      "=================================================================\n",
      " embedding_5 (Embedding)     (None, 40, 300)           9733800   \n",
      "                                                                 \n",
      " lstm_5 (LSTM)               (None, 40, 256)           570368    \n",
      "                                                                 \n",
      " flatten_5 (Flatten)         (None, 10240)             0         \n",
      "                                                                 \n",
      " dense_5 (Dense)             (None, 3)                 30723     \n",
      "                                                                 \n",
      "=================================================================\n",
      "Total params: 10,334,891\n",
      "Trainable params: 10,334,891\n",
      "Non-trainable params: 0\n",
      "_________________________________________________________________\n",
      "Epoch 1/20\n",
      "258/258 [==============================] - 72s 274ms/step - loss: 0.7335 - categorical_accuracy: 0.6844 - val_loss: 0.5725 - val_categorical_accuracy: 0.7732\n",
      "Epoch 2/20\n",
      "258/258 [==============================] - 68s 265ms/step - loss: 0.5217 - categorical_accuracy: 0.8060 - val_loss: 0.4606 - val_categorical_accuracy: 0.8335\n",
      "Epoch 3/20\n",
      "258/258 [==============================] - 71s 276ms/step - loss: 0.4275 - categorical_accuracy: 0.8483 - val_loss: 0.4499 - val_categorical_accuracy: 0.8373\n",
      "Epoch 4/20\n",
      "258/258 [==============================] - 70s 271ms/step - loss: 0.3671 - categorical_accuracy: 0.8699 - val_loss: 0.4395 - val_categorical_accuracy: 0.8490\n",
      "Epoch 5/20\n",
      "258/258 [==============================] - 65s 251ms/step - loss: 0.3180 - categorical_accuracy: 0.8890 - val_loss: 0.4522 - val_categorical_accuracy: 0.8426\n",
      "Epoch 6/20\n",
      "258/258 [==============================] - 65s 250ms/step - loss: 0.2710 - categorical_accuracy: 0.9044 - val_loss: 0.4410 - val_categorical_accuracy: 0.8551\n",
      "Epoch 7/20\n",
      "258/258 [==============================] - 65s 253ms/step - loss: 0.2267 - categorical_accuracy: 0.9181 - val_loss: 0.5328 - val_categorical_accuracy: 0.8375\n",
      "An incorrect vector was found and skipped\n",
      "An incorrect vector was found and skipped\n",
      "An incorrect vector was found and skipped\n",
      "An incorrect vector was found and skipped\n",
      "An incorrect vector was found and skipped\n"
     ]
    },
    {
     "name": "stderr",
     "output_type": "stream",
     "text": [
      "100%|██████████| 32445/32445 [00:00<00:00, 722414.95it/s]\n"
     ]
    },
    {
     "name": "stdout",
     "output_type": "stream",
     "text": [
      "Model: \"sequential_6\"\n",
      "_________________________________________________________________\n",
      " Layer (type)                Output Shape              Param #   \n",
      "=================================================================\n",
      " embedding_6 (Embedding)     (None, 40, 300)           9733800   \n",
      "                                                                 \n",
      " lstm_6 (LSTM)               (None, 40, 256)           570368    \n",
      "                                                                 \n",
      " flatten_6 (Flatten)         (None, 10240)             0         \n",
      "                                                                 \n",
      " dense_6 (Dense)             (None, 3)                 30723     \n",
      "                                                                 \n",
      "=================================================================\n",
      "Total params: 10,334,891\n",
      "Trainable params: 10,334,891\n",
      "Non-trainable params: 0\n",
      "_________________________________________________________________\n",
      "Epoch 1/20\n",
      "258/258 [==============================] - 87s 332ms/step - loss: 0.7266 - categorical_accuracy: 0.6918 - val_loss: 0.6239 - val_categorical_accuracy: 0.7556\n",
      "Epoch 2/20\n",
      "258/258 [==============================] - 82s 319ms/step - loss: 0.5138 - categorical_accuracy: 0.8096 - val_loss: 0.4990 - val_categorical_accuracy: 0.8308\n",
      "Epoch 3/20\n",
      "258/258 [==============================] - 82s 318ms/step - loss: 0.4220 - categorical_accuracy: 0.8487 - val_loss: 0.4490 - val_categorical_accuracy: 0.8384\n",
      "Epoch 4/20\n",
      "258/258 [==============================] - 76s 295ms/step - loss: 0.3631 - categorical_accuracy: 0.8728 - val_loss: 0.4565 - val_categorical_accuracy: 0.8420\n",
      "Epoch 5/20\n",
      "258/258 [==============================] - 76s 295ms/step - loss: 0.3154 - categorical_accuracy: 0.8891 - val_loss: 0.4547 - val_categorical_accuracy: 0.8552\n",
      "Epoch 6/20\n",
      "258/258 [==============================] - 77s 299ms/step - loss: 0.2729 - categorical_accuracy: 0.9044 - val_loss: 0.5102 - val_categorical_accuracy: 0.8469\n"
     ]
    },
    {
     "name": "stderr",
     "output_type": "stream",
     "text": [
      "100%|██████████| 32445/32445 [00:00<00:00, 1160929.82it/s]\n"
     ]
    },
    {
     "name": "stdout",
     "output_type": "stream",
     "text": [
      "Model: \"sequential_7\"\n",
      "_________________________________________________________________\n",
      " Layer (type)                Output Shape              Param #   \n",
      "=================================================================\n",
      " embedding_7 (Embedding)     (None, 40, 25)            811150    \n",
      "                                                                 \n",
      " lstm_7 (LSTM)               (None, 40, 256)           288768    \n",
      "                                                                 \n",
      " flatten_7 (Flatten)         (None, 10240)             0         \n",
      "                                                                 \n",
      " dense_7 (Dense)             (None, 3)                 30723     \n",
      "                                                                 \n",
      "=================================================================\n",
      "Total params: 1,130,641\n",
      "Trainable params: 1,130,641\n",
      "Non-trainable params: 0\n",
      "_________________________________________________________________\n",
      "Epoch 1/20\n",
      "258/258 [==============================] - 37s 136ms/step - loss: 0.8989 - categorical_accuracy: 0.5773 - val_loss: 0.8614 - val_categorical_accuracy: 0.6064\n",
      "Epoch 2/20\n",
      "258/258 [==============================] - 37s 143ms/step - loss: 0.7822 - categorical_accuracy: 0.6570 - val_loss: 0.6824 - val_categorical_accuracy: 0.7127\n",
      "Epoch 3/20\n",
      "258/258 [==============================] - 38s 147ms/step - loss: 0.6930 - categorical_accuracy: 0.7110 - val_loss: 0.6204 - val_categorical_accuracy: 0.7506\n",
      "Epoch 4/20\n",
      "258/258 [==============================] - 38s 146ms/step - loss: 0.6261 - categorical_accuracy: 0.7458 - val_loss: 0.5778 - val_categorical_accuracy: 0.7697\n",
      "Epoch 5/20\n",
      "258/258 [==============================] - 37s 143ms/step - loss: 0.5836 - categorical_accuracy: 0.7708 - val_loss: 0.5418 - val_categorical_accuracy: 0.7890\n",
      "Epoch 6/20\n",
      "258/258 [==============================] - 38s 146ms/step - loss: 0.5437 - categorical_accuracy: 0.7923 - val_loss: 0.5218 - val_categorical_accuracy: 0.8011\n",
      "Epoch 7/20\n",
      "258/258 [==============================] - 38s 148ms/step - loss: 0.5128 - categorical_accuracy: 0.8064 - val_loss: 0.5059 - val_categorical_accuracy: 0.8096\n",
      "Epoch 8/20\n",
      "258/258 [==============================] - 39s 152ms/step - loss: 0.4857 - categorical_accuracy: 0.8179 - val_loss: 0.4866 - val_categorical_accuracy: 0.8174\n",
      "Epoch 9/20\n",
      "258/258 [==============================] - 38s 147ms/step - loss: 0.4639 - categorical_accuracy: 0.8297 - val_loss: 0.4545 - val_categorical_accuracy: 0.8375\n",
      "Epoch 10/20\n",
      "258/258 [==============================] - 41s 159ms/step - loss: 0.4455 - categorical_accuracy: 0.8368 - val_loss: 0.4406 - val_categorical_accuracy: 0.8432\n",
      "Epoch 11/20\n",
      "258/258 [==============================] - 41s 159ms/step - loss: 0.4265 - categorical_accuracy: 0.8425 - val_loss: 0.4664 - val_categorical_accuracy: 0.8358\n",
      "Epoch 12/20\n",
      "258/258 [==============================] - 41s 160ms/step - loss: 0.4108 - categorical_accuracy: 0.8513 - val_loss: 0.4376 - val_categorical_accuracy: 0.8440\n",
      "Epoch 13/20\n",
      "258/258 [==============================] - 43s 167ms/step - loss: 0.3964 - categorical_accuracy: 0.8574 - val_loss: 0.4325 - val_categorical_accuracy: 0.8480\n",
      "Epoch 14/20\n",
      "258/258 [==============================] - 43s 165ms/step - loss: 0.3790 - categorical_accuracy: 0.8632 - val_loss: 0.4709 - val_categorical_accuracy: 0.8399\n",
      "Epoch 15/20\n",
      "258/258 [==============================] - 45s 173ms/step - loss: 0.3690 - categorical_accuracy: 0.8675 - val_loss: 0.4284 - val_categorical_accuracy: 0.8533\n",
      "Epoch 16/20\n",
      "258/258 [==============================] - 43s 168ms/step - loss: 0.3565 - categorical_accuracy: 0.8718 - val_loss: 0.4566 - val_categorical_accuracy: 0.8455\n",
      "Epoch 17/20\n",
      "258/258 [==============================] - 42s 163ms/step - loss: 0.3448 - categorical_accuracy: 0.8753 - val_loss: 0.4468 - val_categorical_accuracy: 0.8502\n",
      "Epoch 18/20\n",
      "258/258 [==============================] - 40s 154ms/step - loss: 0.3312 - categorical_accuracy: 0.8814 - val_loss: 0.4359 - val_categorical_accuracy: 0.8501\n"
     ]
    },
    {
     "name": "stderr",
     "output_type": "stream",
     "text": [
      "100%|██████████| 32445/32445 [00:00<00:00, 1016653.79it/s]\n"
     ]
    },
    {
     "name": "stdout",
     "output_type": "stream",
     "text": [
      "Model: \"sequential_8\"\n",
      "_________________________________________________________________\n",
      " Layer (type)                Output Shape              Param #   \n",
      "=================================================================\n",
      " embedding_8 (Embedding)     (None, 40, 50)            1622300   \n",
      "                                                                 \n",
      " lstm_8 (LSTM)               (None, 40, 256)           314368    \n",
      "                                                                 \n",
      " flatten_8 (Flatten)         (None, 10240)             0         \n",
      "                                                                 \n",
      " dense_8 (Dense)             (None, 3)                 30723     \n",
      "                                                                 \n",
      "=================================================================\n",
      "Total params: 1,967,391\n",
      "Trainable params: 1,967,391\n",
      "Non-trainable params: 0\n",
      "_________________________________________________________________\n",
      "Epoch 1/20\n",
      "258/258 [==============================] - 44s 164ms/step - loss: 0.8436 - categorical_accuracy: 0.6172 - val_loss: 0.7100 - val_categorical_accuracy: 0.7048\n",
      "Epoch 2/20\n",
      "258/258 [==============================] - 65s 252ms/step - loss: 0.7012 - categorical_accuracy: 0.7061 - val_loss: 0.5997 - val_categorical_accuracy: 0.7591\n",
      "Epoch 3/20\n",
      "258/258 [==============================] - 66s 256ms/step - loss: 0.6087 - categorical_accuracy: 0.7578 - val_loss: 0.5640 - val_categorical_accuracy: 0.7773\n",
      "Epoch 4/20\n",
      "258/258 [==============================] - 66s 256ms/step - loss: 0.5460 - categorical_accuracy: 0.7907 - val_loss: 0.4990 - val_categorical_accuracy: 0.8134\n",
      "Epoch 5/20\n",
      "258/258 [==============================] - 65s 253ms/step - loss: 0.5033 - categorical_accuracy: 0.8101 - val_loss: 0.5042 - val_categorical_accuracy: 0.8019\n",
      "Epoch 6/20\n",
      "258/258 [==============================] - 65s 252ms/step - loss: 0.4636 - categorical_accuracy: 0.8292 - val_loss: 0.5294 - val_categorical_accuracy: 0.8055\n",
      "Epoch 7/20\n",
      "258/258 [==============================] - 65s 252ms/step - loss: 0.4321 - categorical_accuracy: 0.8431 - val_loss: 0.4736 - val_categorical_accuracy: 0.8311\n",
      "Epoch 8/20\n",
      "258/258 [==============================] - 64s 249ms/step - loss: 0.4090 - categorical_accuracy: 0.8523 - val_loss: 0.4334 - val_categorical_accuracy: 0.8452\n",
      "Epoch 9/20\n",
      "258/258 [==============================] - 63s 246ms/step - loss: 0.3888 - categorical_accuracy: 0.8602 - val_loss: 0.4999 - val_categorical_accuracy: 0.8251\n",
      "Epoch 10/20\n",
      "258/258 [==============================] - 66s 256ms/step - loss: 0.3652 - categorical_accuracy: 0.8680 - val_loss: 0.4425 - val_categorical_accuracy: 0.8500\n",
      "Epoch 11/20\n",
      "258/258 [==============================] - 67s 259ms/step - loss: 0.3455 - categorical_accuracy: 0.8766 - val_loss: 0.4293 - val_categorical_accuracy: 0.8526\n",
      "Epoch 12/20\n",
      "258/258 [==============================] - 66s 254ms/step - loss: 0.3262 - categorical_accuracy: 0.8858 - val_loss: 0.4561 - val_categorical_accuracy: 0.8548\n",
      "Epoch 13/20\n",
      "258/258 [==============================] - 66s 254ms/step - loss: 0.3081 - categorical_accuracy: 0.8897 - val_loss: 0.4464 - val_categorical_accuracy: 0.8554\n",
      "Epoch 14/20\n",
      "258/258 [==============================] - 66s 255ms/step - loss: 0.2927 - categorical_accuracy: 0.8948 - val_loss: 0.4782 - val_categorical_accuracy: 0.8518\n"
     ]
    },
    {
     "name": "stderr",
     "output_type": "stream",
     "text": [
      "100%|██████████| 32445/32445 [00:00<00:00, 903673.51it/s]\n"
     ]
    },
    {
     "name": "stdout",
     "output_type": "stream",
     "text": [
      "Model: \"sequential_9\"\n",
      "_________________________________________________________________\n",
      " Layer (type)                Output Shape              Param #   \n",
      "=================================================================\n",
      " embedding_9 (Embedding)     (None, 40, 100)           3244600   \n",
      "                                                                 \n",
      " lstm_9 (LSTM)               (None, 40, 256)           365568    \n",
      "                                                                 \n",
      " flatten_9 (Flatten)         (None, 10240)             0         \n",
      "                                                                 \n",
      " dense_9 (Dense)             (None, 3)                 30723     \n",
      "                                                                 \n",
      "=================================================================\n",
      "Total params: 3,640,891\n",
      "Trainable params: 3,640,891\n",
      "Non-trainable params: 0\n",
      "_________________________________________________________________\n",
      "Epoch 1/20\n",
      "258/258 [==============================] - 67s 254ms/step - loss: 0.7987 - categorical_accuracy: 0.6468 - val_loss: 0.6446 - val_categorical_accuracy: 0.7348\n",
      "Epoch 2/20\n",
      "258/258 [==============================] - 66s 258ms/step - loss: 0.6260 - categorical_accuracy: 0.7464 - val_loss: 0.5659 - val_categorical_accuracy: 0.7801\n",
      "Epoch 3/20\n",
      "258/258 [==============================] - 68s 262ms/step - loss: 0.5323 - categorical_accuracy: 0.7992 - val_loss: 0.5006 - val_categorical_accuracy: 0.8121\n",
      "Epoch 4/20\n",
      "258/258 [==============================] - 67s 260ms/step - loss: 0.4746 - categorical_accuracy: 0.8237 - val_loss: 0.4749 - val_categorical_accuracy: 0.8280\n",
      "Epoch 5/20\n",
      "258/258 [==============================] - 67s 260ms/step - loss: 0.4268 - categorical_accuracy: 0.8447 - val_loss: 0.4336 - val_categorical_accuracy: 0.8465\n",
      "Epoch 6/20\n",
      "258/258 [==============================] - 74s 289ms/step - loss: 0.3921 - categorical_accuracy: 0.8608 - val_loss: 0.4263 - val_categorical_accuracy: 0.8474\n",
      "Epoch 7/20\n",
      "258/258 [==============================] - 75s 289ms/step - loss: 0.3597 - categorical_accuracy: 0.8724 - val_loss: 0.4229 - val_categorical_accuracy: 0.8522\n",
      "Epoch 8/20\n",
      "258/258 [==============================] - 77s 298ms/step - loss: 0.3353 - categorical_accuracy: 0.8805 - val_loss: 0.4315 - val_categorical_accuracy: 0.8524\n",
      "Epoch 9/20\n",
      "258/258 [==============================] - 77s 297ms/step - loss: 0.3039 - categorical_accuracy: 0.8924 - val_loss: 0.4428 - val_categorical_accuracy: 0.8469\n",
      "Epoch 10/20\n",
      "258/258 [==============================] - 77s 300ms/step - loss: 0.2801 - categorical_accuracy: 0.9014 - val_loss: 0.4451 - val_categorical_accuracy: 0.8511\n"
     ]
    },
    {
     "name": "stderr",
     "output_type": "stream",
     "text": [
      "100%|██████████| 32445/32445 [00:00<00:00, 774063.27it/s]\n"
     ]
    },
    {
     "name": "stdout",
     "output_type": "stream",
     "text": [
      "Model: \"sequential_10\"\n",
      "_________________________________________________________________\n",
      " Layer (type)                Output Shape              Param #   \n",
      "=================================================================\n",
      " embedding_10 (Embedding)    (None, 40, 200)           6489200   \n",
      "                                                                 \n",
      " lstm_10 (LSTM)              (None, 40, 256)           467968    \n",
      "                                                                 \n",
      " flatten_10 (Flatten)        (None, 10240)             0         \n",
      "                                                                 \n",
      " dense_10 (Dense)            (None, 3)                 30723     \n",
      "                                                                 \n",
      "=================================================================\n",
      "Total params: 6,987,891\n",
      "Trainable params: 6,987,891\n",
      "Non-trainable params: 0\n",
      "_________________________________________________________________\n",
      "Epoch 1/20\n",
      "258/258 [==============================] - 75s 285ms/step - loss: 0.7626 - categorical_accuracy: 0.6675 - val_loss: 0.6185 - val_categorical_accuracy: 0.7523\n",
      "Epoch 2/20\n",
      "258/258 [==============================] - 71s 275ms/step - loss: 0.5678 - categorical_accuracy: 0.7803 - val_loss: 0.5076 - val_categorical_accuracy: 0.8084\n",
      "Epoch 3/20\n",
      "258/258 [==============================] - 75s 290ms/step - loss: 0.4665 - categorical_accuracy: 0.8292 - val_loss: 0.4857 - val_categorical_accuracy: 0.8288\n",
      "Epoch 4/20\n",
      "258/258 [==============================] - 87s 339ms/step - loss: 0.4099 - categorical_accuracy: 0.8532 - val_loss: 0.4669 - val_categorical_accuracy: 0.8383\n",
      "Epoch 5/20\n",
      "258/258 [==============================] - 86s 332ms/step - loss: 0.3650 - categorical_accuracy: 0.8715 - val_loss: 0.4414 - val_categorical_accuracy: 0.8480\n",
      "Epoch 6/20\n",
      "258/258 [==============================] - 86s 332ms/step - loss: 0.3233 - categorical_accuracy: 0.8848 - val_loss: 0.4767 - val_categorical_accuracy: 0.8393\n",
      "Epoch 7/20\n",
      "258/258 [==============================] - 81s 313ms/step - loss: 0.2842 - categorical_accuracy: 0.8993 - val_loss: 0.5576 - val_categorical_accuracy: 0.8339\n",
      "Epoch 8/20\n",
      "258/258 [==============================] - 81s 315ms/step - loss: 0.2504 - categorical_accuracy: 0.9098 - val_loss: 0.4593 - val_categorical_accuracy: 0.8405\n"
     ]
    },
    {
     "name": "stderr",
     "output_type": "stream",
     "text": [
      "100%|██████████| 32445/32445 [00:00<00:00, 638233.72it/s]\n"
     ]
    },
    {
     "name": "stdout",
     "output_type": "stream",
     "text": [
      "Model: \"sequential_11\"\n",
      "_________________________________________________________________\n",
      " Layer (type)                Output Shape              Param #   \n",
      "=================================================================\n",
      " embedding_11 (Embedding)    (None, 40, 300)           9733800   \n",
      "                                                                 \n",
      " lstm_11 (LSTM)              (None, 40, 256)           570368    \n",
      "                                                                 \n",
      " flatten_11 (Flatten)        (None, 10240)             0         \n",
      "                                                                 \n",
      " dense_11 (Dense)            (None, 3)                 30723     \n",
      "                                                                 \n",
      "=================================================================\n",
      "Total params: 10,334,891\n",
      "Trainable params: 10,334,891\n",
      "Non-trainable params: 0\n",
      "_________________________________________________________________\n",
      "Epoch 1/20\n",
      "258/258 [==============================] - 96s 365ms/step - loss: 0.7136 - categorical_accuracy: 0.6988 - val_loss: 0.5875 - val_categorical_accuracy: 0.7828\n",
      "Epoch 2/20\n",
      "258/258 [==============================] - 99s 385ms/step - loss: 0.4925 - categorical_accuracy: 0.8216 - val_loss: 0.4375 - val_categorical_accuracy: 0.8444\n",
      "Epoch 3/20\n",
      "258/258 [==============================] - 97s 377ms/step - loss: 0.4031 - categorical_accuracy: 0.8597 - val_loss: 0.4282 - val_categorical_accuracy: 0.8511\n",
      "Epoch 4/20\n",
      "258/258 [==============================] - 103s 400ms/step - loss: 0.3499 - categorical_accuracy: 0.8782 - val_loss: 0.4588 - val_categorical_accuracy: 0.8522\n",
      "Epoch 5/20\n",
      "258/258 [==============================] - 103s 401ms/step - loss: 0.3043 - categorical_accuracy: 0.8946 - val_loss: 0.4422 - val_categorical_accuracy: 0.8500\n",
      "Epoch 6/20\n",
      "258/258 [==============================] - 103s 400ms/step - loss: 0.2563 - categorical_accuracy: 0.9113 - val_loss: 0.4621 - val_categorical_accuracy: 0.8540\n"
     ]
    },
    {
     "name": "stderr",
     "output_type": "stream",
     "text": [
      "100%|██████████| 32445/32445 [00:00<00:00, 691762.41it/s]\n"
     ]
    },
    {
     "name": "stdout",
     "output_type": "stream",
     "text": [
      "Model: \"sequential_12\"\n",
      "_________________________________________________________________\n",
      " Layer (type)                Output Shape              Param #   \n",
      "=================================================================\n",
      " embedding_12 (Embedding)    (None, 40, 300)           9733800   \n",
      "                                                                 \n",
      " lstm_12 (LSTM)              (None, 40, 256)           570368    \n",
      "                                                                 \n",
      " flatten_12 (Flatten)        (None, 10240)             0         \n",
      "                                                                 \n",
      " dense_12 (Dense)            (None, 3)                 30723     \n",
      "                                                                 \n",
      "=================================================================\n",
      "Total params: 10,334,891\n",
      "Trainable params: 10,334,891\n",
      "Non-trainable params: 0\n",
      "_________________________________________________________________\n",
      "Epoch 1/20\n",
      "258/258 [==============================] - 105s 403ms/step - loss: 0.6812 - categorical_accuracy: 0.7188 - val_loss: 0.5118 - val_categorical_accuracy: 0.8185\n",
      "Epoch 2/20\n",
      "258/258 [==============================] - 105s 408ms/step - loss: 0.4448 - categorical_accuracy: 0.8398 - val_loss: 0.4694 - val_categorical_accuracy: 0.8304\n",
      "Epoch 3/20\n",
      "258/258 [==============================] - 103s 401ms/step - loss: 0.3693 - categorical_accuracy: 0.8713 - val_loss: 0.4360 - val_categorical_accuracy: 0.8550\n",
      "Epoch 4/20\n",
      "258/258 [==============================] - 100s 387ms/step - loss: 0.3180 - categorical_accuracy: 0.8915 - val_loss: 0.4889 - val_categorical_accuracy: 0.8356\n",
      "Epoch 5/20\n",
      "258/258 [==============================] - 98s 381ms/step - loss: 0.2709 - categorical_accuracy: 0.9066 - val_loss: 0.5022 - val_categorical_accuracy: 0.8336\n",
      "Epoch 6/20\n",
      "258/258 [==============================] - 99s 382ms/step - loss: 0.2303 - categorical_accuracy: 0.9220 - val_loss: 0.5458 - val_categorical_accuracy: 0.8326\n"
     ]
    },
    {
     "name": "stderr",
     "output_type": "stream",
     "text": [
      "100%|██████████| 32445/32445 [00:00<00:00, 739379.05it/s]\n"
     ]
    },
    {
     "name": "stdout",
     "output_type": "stream",
     "text": [
      "Model: \"sequential_13\"\n",
      "_________________________________________________________________\n",
      " Layer (type)                Output Shape              Param #   \n",
      "=================================================================\n",
      " embedding_13 (Embedding)    (None, 40, 300)           9733800   \n",
      "                                                                 \n",
      " lstm_13 (LSTM)              (None, 40, 256)           570368    \n",
      "                                                                 \n",
      " flatten_13 (Flatten)        (None, 10240)             0         \n",
      "                                                                 \n",
      " dense_13 (Dense)            (None, 3)                 30723     \n",
      "                                                                 \n",
      "=================================================================\n",
      "Total params: 10,334,891\n",
      "Trainable params: 10,334,891\n",
      "Non-trainable params: 0\n",
      "_________________________________________________________________\n",
      "Epoch 1/20\n",
      "258/258 [==============================] - 103s 394ms/step - loss: 0.6918 - categorical_accuracy: 0.7087 - val_loss: 0.5218 - val_categorical_accuracy: 0.8200\n",
      "Epoch 2/20\n",
      "258/258 [==============================] - 118s 456ms/step - loss: 0.4621 - categorical_accuracy: 0.8355 - val_loss: 0.4687 - val_categorical_accuracy: 0.8416\n",
      "Epoch 3/20\n",
      "258/258 [==============================] - 117s 454ms/step - loss: 0.3807 - categorical_accuracy: 0.8695 - val_loss: 0.4267 - val_categorical_accuracy: 0.8546\n",
      "Epoch 4/20\n",
      "258/258 [==============================] - 110s 426ms/step - loss: 0.3287 - categorical_accuracy: 0.8868 - val_loss: 0.4387 - val_categorical_accuracy: 0.8557\n",
      "Epoch 5/20\n",
      "258/258 [==============================] - 110s 426ms/step - loss: 0.2842 - categorical_accuracy: 0.9025 - val_loss: 0.5176 - val_categorical_accuracy: 0.8123\n",
      "Epoch 6/20\n",
      "258/258 [==============================] - 110s 424ms/step - loss: 0.2427 - categorical_accuracy: 0.9155 - val_loss: 0.4597 - val_categorical_accuracy: 0.8463\n"
     ]
    },
    {
     "name": "stderr",
     "output_type": "stream",
     "text": [
      "100%|██████████| 32445/32445 [00:00<00:00, 756451.95it/s]\n"
     ]
    },
    {
     "name": "stdout",
     "output_type": "stream",
     "text": [
      "Model: \"sequential_14\"\n",
      "_________________________________________________________________\n",
      " Layer (type)                Output Shape              Param #   \n",
      "=================================================================\n",
      " embedding_14 (Embedding)    (None, 40, 300)           9733800   \n",
      "                                                                 \n",
      " lstm_14 (LSTM)              (None, 40, 256)           570368    \n",
      "                                                                 \n",
      " flatten_14 (Flatten)        (None, 10240)             0         \n",
      "                                                                 \n",
      " dense_14 (Dense)            (None, 3)                 30723     \n",
      "                                                                 \n",
      "=================================================================\n",
      "Total params: 10,334,891\n",
      "Trainable params: 10,334,891\n",
      "Non-trainable params: 0\n",
      "_________________________________________________________________\n",
      "Epoch 1/20\n",
      "258/258 [==============================] - 103s 393ms/step - loss: 0.6861 - categorical_accuracy: 0.7144 - val_loss: 0.6433 - val_categorical_accuracy: 0.7455\n",
      "Epoch 2/20\n",
      "258/258 [==============================] - 102s 395ms/step - loss: 0.4397 - categorical_accuracy: 0.8437 - val_loss: 0.4734 - val_categorical_accuracy: 0.8293\n",
      "Epoch 3/20\n",
      "258/258 [==============================] - 95s 367ms/step - loss: 0.3630 - categorical_accuracy: 0.8736 - val_loss: 0.4881 - val_categorical_accuracy: 0.8281\n",
      "Epoch 4/20\n",
      "258/258 [==============================] - 95s 369ms/step - loss: 0.3119 - categorical_accuracy: 0.8939 - val_loss: 0.5336 - val_categorical_accuracy: 0.8188\n",
      "Epoch 5/20\n",
      "258/258 [==============================] - 94s 363ms/step - loss: 0.2607 - categorical_accuracy: 0.9109 - val_loss: 0.6343 - val_categorical_accuracy: 0.8024\n"
     ]
    }
   ],
   "source": [
    "# embedding_matrix_glove_6b_50d =  construct_embedding_matrix(\"embeddings/glove.6B.50d.txt\", 50)\n",
    "# train_model(\"simple_lstm_glove_vectors_6B_50d\", 50, embedding_matrix_glove_6b_50d)\n",
    "\n",
    "embedding_matrix_glove_6b_100d =  construct_embedding_matrix(\"embeddings/glove.6B.100d.txt\", 100)\n",
    "train_model(\"simple_lstm_glove_vectors_6B_100d\", 100, embedding_matrix_glove_6b_100d)\n",
    "\n",
    "embedding_matrix_glove_6b_200d =  construct_embedding_matrix(\"embeddings/glove.6B.200d.txt\", 200)\n",
    "train_model(\"simple_lstm_glove_vectors_6B_200d\", 200, embedding_matrix_glove_6b_200d)\n",
    "\n",
    "embedding_matrix_glove_6b_300d =  construct_embedding_matrix(\"embeddings/glove.6B.300d.txt\", 300)\n",
    "train_model(\"simple_lstm_glove_vectors_6B_300d\", 300, embedding_matrix_glove_6b_300d)\n",
    "\n",
    "\n",
    "embedding_matrix_glove_42b_300d =  construct_embedding_matrix(\"embeddings/glove.42B.300d.txt\", 300)\n",
    "train_model(\"simple_lstm_glove_vectors_42B_300d\", 300, embedding_matrix_glove_42b_300d)\n",
    "embedding_matrix_glove_840b_300d =  construct_embedding_matrix(\"embeddings/glove.840B.300d.txt\", 300)\n",
    "train_model(\"simple_lstm_glove_vectors_840B_300d\", 300, embedding_matrix_glove_840b_300d)\n",
    "\n",
    "embedding_matrix_glove_27b_25d =  construct_embedding_matrix(\"embeddings/glove.twitter.27B.25d.txt\", 25)\n",
    "train_model(\"simple_lstm_glove_twitter_vectors_27B_25d\", 25, embedding_matrix_glove_27b_25d)\n",
    "embedding_matrix_glove_27b_50d =  construct_embedding_matrix(\"embeddings/glove.twitter.27B.50d.txt\", 50)\n",
    "train_model(\"simple_lstm_glove_twitter_vectors_27B_50d\", 50, embedding_matrix_glove_27b_50d)\n",
    "embedding_matrix_glove_27b_100d =  construct_embedding_matrix(\"embeddings/glove.twitter.27B.100d.txt\", 100)\n",
    "train_model(\"simple_lstm_glove_twitter_vectors_27B_100d\", 100, embedding_matrix_glove_27b_100d)\n",
    "embedding_matrix_glove_27b_200d =  construct_embedding_matrix(\"embeddings/glove.twitter.27B.200d.txt\", 200)\n",
    "train_model(\"simple_lstm_glove_twitter_vectors_27B_200d\", 200, embedding_matrix_glove_27b_200d)\n",
    "\n",
    "embedding_matrix_ff_600B_300d = construct_embedding_matrix_from_ff(\"embeddings/crawl-300d-2M.vec\", 300)\n",
    "train_model(\"simple_lstm_ff_vectors_600B_300d\", 300, embedding_matrix_ff_600B_300d)\n",
    "\n",
    "embedding_matrix_ff_subwords_600B_300d = construct_embedding_matrix_from_ff(\"embeddings/crawl-300d-2M-subword.vec\", 300)\n",
    "train_model(\"simple_lstm_ff_subwords_vectors_600B_300d\", 300, embedding_matrix_ff_subwords_600B_300d)\n",
    "\n",
    "embedding_matrix_ff_wiki_16B_300d = construct_embedding_matrix_from_ff(\"embeddings/wiki-news-300d-1M.vec\", 300)\n",
    "train_model(\"simple_lstm_ff_wiki_vectors_16B_300d\", 300, embedding_matrix_ff_wiki_16B_300d)\n",
    "\n",
    "embedding_matrix_ff_wiki_subwords_16B_300d = construct_embedding_matrix_from_ff(\"embeddings/wiki-news-300d-1M-subword.vec\", 300)\n",
    "train_model(\"simple_lstm_ff_wiki_subwords_vectors_16B_300d\", 300, embedding_matrix_ff_wiki_subwords_16B_300d)"
   ]
  },
  {
   "cell_type": "code",
   "execution_count": 60,
   "metadata": {},
   "outputs": [
    {
     "name": "stdout",
     "output_type": "stream",
     "text": [
      "(10240, 3)\n"
     ]
    }
   ],
   "source": [
    "# play around with word embedding\n",
    "\n",
    "# access the embedding layer through the constructed model \n",
    "# first `0` refers to the position of embedding layer in the `model`\n",
    "embeddings = model.layers[0].get_weights()[0]\n",
    "\n",
    "# `embeddings` has a shape of (num_vocab, embedding_dim) \n",
    "\n",
    "# `word_to_index` is a mapping (i.e. dict) from words to their index, e.g. `love`: 69\n",
    "words_embeddings = {w:embeddings[idx] for w, idx in word_index.items()}\n",
    "\n",
    "# now you can use it like this for example\n",
    "print(words_embeddings['covid'])  # possible output: [0.21, 0.56, ..., 0.65, 0.10]"
   ]
  },
  {
   "cell_type": "markdown",
   "metadata": {},
   "source": [
    "## Visualization of model training"
   ]
  },
  {
   "cell_type": "code",
   "execution_count": 82,
   "metadata": {},
   "outputs": [
    {
     "data": {
      "image/png": "[encoded data removed]",
      "text/plain": [
       "<Figure size 432x288 with 1 Axes>"
      ]
     },
     "metadata": {
      "needs_background": "light"
     },
     "output_type": "display_data"
    },
    {
     "data": {
      "image/png": "[encoded data removed]",
      "text/plain": [
       "<Figure size 432x288 with 1 Axes>"
      ]
     },
     "metadata": {
      "needs_background": "light"
     },
     "output_type": "display_data"
    }
   ],
   "source": [
    "acc = hist.history['categorical_accuracy']\n",
    "val_acc = hist.history['val_categorical_accuracy'] \n",
    "loss = hist.history['loss'] \n",
    "val_loss = hist.history['val_loss']\n",
    "\n",
    "epochs = range(1, len(acc) + 1)\n",
    "\n",
    "plt.plot(epochs, acc, 'r', label='Training acc')\n",
    "plt.plot(epochs, val_acc, 'b', label='Validation acc') \n",
    "plt.title('Training and validation accuracy') \n",
    "plt.legend()\n",
    "\n",
    "plt.figure()\n",
    "\n",
    "plt.plot(epochs, loss, 'r', label='Training loss')\n",
    "plt.plot(epochs, val_loss, 'b', label='Validation loss') \n",
    "plt.title('Training and validation loss')\n",
    "plt.legend()\n",
    "\n",
    "plt.show()"
   ]
  },
  {
   "cell_type": "markdown",
   "metadata": {},
   "source": [
    "## Model Evaluation"
   ]
  },
  {
   "cell_type": "code",
   "execution_count": 23,
   "metadata": {},
   "outputs": [
    {
     "name": "stdout",
     "output_type": "stream",
     "text": [
      "119/119 [==============================] - 7s 54ms/step - loss: 0.4927 - categorical_accuracy: 0.8394\n",
      "simple_lstm_ff_subwords_vectors_600B_300d.h5 [0.4926719069480896, 0.8393891453742981]\n",
      "119/119 [==============================] - 7s 56ms/step - loss: 0.4884 - categorical_accuracy: 0.8315\n",
      "simple_lstm_ff_vectors_600B_300d.h5 [0.48840096592903137, 0.8314902782440186]\n",
      "119/119 [==============================] - 7s 57ms/step - loss: 0.5232 - categorical_accuracy: 0.8120\n",
      "simple_lstm_ff_wiki_subwords_vectors_16B_300d.h5 [0.5231635570526123, 0.8120062947273254]\n",
      "119/119 [==============================] - 7s 58ms/step - loss: 0.4774 - categorical_accuracy: 0.8323\n",
      "simple_lstm_ff_wiki_vectors_16B_300d.h5 [0.4773871898651123, 0.832280158996582]\n",
      "119/119 [==============================] - 5s 41ms/step - loss: 0.4734 - categorical_accuracy: 0.8404\n",
      "simple_lstm_glove_twitter_vectors_27B_100d.h5 [0.47339096665382385, 0.8404423594474792]\n",
      "119/119 [==============================] - 5s 37ms/step - loss: 0.4875 - categorical_accuracy: 0.8344\n",
      "simple_lstm_glove_twitter_vectors_27B_200d.h5 [0.4875066578388214, 0.8343865275382996]\n",
      "119/119 [==============================] - 3s 26ms/step - loss: 0.4866 - categorical_accuracy: 0.8339\n",
      "simple_lstm_glove_twitter_vectors_27B_25d.h5 [0.4865739643573761, 0.833859920501709]\n",
      "119/119 [==============================] - 3s 27ms/step - loss: 0.4792 - categorical_accuracy: 0.8331\n",
      "simple_lstm_glove_twitter_vectors_27B_50d.h5 [0.4792165458202362, 0.8330700397491455]\n",
      "119/119 [==============================] - 6s 47ms/step - loss: 0.4813 - categorical_accuracy: 0.8368\n",
      "simple_lstm_glove_vectors_42B_300d.h5 [0.4812653064727783, 0.83675616979599]\n",
      "119/119 [==============================] - 4s 30ms/step - loss: 0.4822 - categorical_accuracy: 0.8365\n",
      "simple_lstm_glove_vectors_6B_100d.h5 [0.4821579158306122, 0.8364928960800171]\n",
      "119/119 [==============================] - 4s 36ms/step - loss: 0.4834 - categorical_accuracy: 0.8360\n",
      "simple_lstm_glove_vectors_6B_200d.h5 [0.48337334394454956, 0.8359662890434265]\n",
      "119/119 [==============================] - 6s 49ms/step - loss: 0.4684 - categorical_accuracy: 0.8389\n",
      "simple_lstm_glove_vectors_6B_300d.h5 [0.4684218168258667, 0.8388625383377075]\n",
      "119/119 [==============================] - 4s 29ms/step - loss: 0.4810 - categorical_accuracy: 0.8270\n",
      "simple_lstm_glove_vectors_6B_50d.h5 [0.4809766113758087, 0.8270142078399658]\n",
      "119/119 [==============================] - 6s 47ms/step - loss: 0.4923 - categorical_accuracy: 0.8268\n",
      "simple_lstm_glove_vectors_840B_300d.h5 [0.4923143982887268, 0.8267509341239929]\n"
     ]
    }
   ],
   "source": [
    "import os\n",
    "\n",
    "directory = os.fsencode(\".\")\n",
    "    \n",
    "for file in os.listdir(directory):\n",
    "     filename = os.fsdecode(file)\n",
    "     if filename.startswith(\"simple_lstm\"):\n",
    "         model = keras.models.load_model(filename)\n",
    "         eval_ = model.evaluate(test_data, test_label)\n",
    "         print(filename, eval_, \"\\n\")\n",
    "     "
   ]
  },
  {
   "cell_type": "code",
   "execution_count": 20,
   "metadata": {},
   "outputs": [
    {
     "name": "stdout",
     "output_type": "stream",
     "text": [
      "119/119 [==============================] - 1s 11ms/step - loss: 0.4810 - categorical_accuracy: 0.8270\n",
      "[0.4809766113758087, 0.8270142078399658]\n"
     ]
    }
   ],
   "source": [
    "\n",
    "\n",
    "model = keras.models.load_model(\"simple_lstm_glove_vectors_6B_50d.h5\")\n",
    "lala = model.evaluate(test_data,test_label)\n",
    "print(lala)"
   ]
  },
  {
   "cell_type": "code",
   "execution_count": 83,
   "metadata": {},
   "outputs": [
    {
     "name": "stdout",
     "output_type": "stream",
     "text": [
      "119/119 [==============================] - 3s 28ms/step - loss: 0.5000 - categorical_accuracy: 0.8362\n"
     ]
    },
    {
     "data": {
      "text/plain": [
       "[0.5000237822532654, 0.8362296223640442]"
      ]
     },
     "execution_count": 83,
     "metadata": {},
     "output_type": "execute_result"
    }
   ],
   "source": [
    "model.evaluate(test_data,test_label)"
   ]
  },
  {
   "cell_type": "code",
   "execution_count": 62,
   "metadata": {},
   "outputs": [
    {
     "name": "stdout",
     "output_type": "stream",
     "text": [
      "[[9.9999988e-01 5.5431880e-08 8.3485602e-08]\n",
      " [1.9440079e-06 1.1493577e-05 9.9998653e-01]\n",
      " [3.4574812e-05 4.0242117e-05 9.9992514e-01]\n",
      " ...\n",
      " [2.5318811e-06 9.9999619e-01 1.3368275e-06]\n",
      " [9.9998915e-01 2.3572570e-06 8.4519243e-06]\n",
      " [1.4903995e-07 4.5983994e-09 9.9999988e-01]]\n"
     ]
    }
   ],
   "source": [
    "preds = model.predict(test_data)\n",
    "print(preds)"
   ]
  }
 ],
 "metadata": {
  "interpreter": {
   "hash": "27f9f31083b1491bb657d358dd9ef3834cbda27041550bdcb5ccfa2b16bbb078"
  },
  "kernelspec": {
   "display_name": "Python 3.7.3 64-bit ('env-tdde16-project': venv)",
   "language": "python",
   "name": "python3"
  },
  "language_info": {
   "codemirror_mode": {
    "name": "ipython",
    "version": 3
   },
   "file_extension": ".py",
   "mimetype": "text/x-python",
   "name": "python",
   "nbconvert_exporter": "python",
   "pygments_lexer": "ipython3",
   "version": "3.7.3"
  },
  "orig_nbformat": 4
 },
 "nbformat": 4,
 "nbformat_minor": 2
}
